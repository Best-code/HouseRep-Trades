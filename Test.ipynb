{
 "cells": [
  {
   "cell_type": "code",
   "execution_count": 63,
   "id": "55630083-2c18-4511-aa82-8b43d7a98fc0",
   "metadata": {},
   "outputs": [],
   "source": [
    "from urllib.request import urlretrieve\n",
    "from zipfile import ZipFile\n",
    "import os"
   ]
  },
  {
   "cell_type": "code",
   "execution_count": 67,
   "id": "cc7a604f-dbb2-4301-8851-7c97893d6577",
   "metadata": {},
   "outputs": [],
   "source": [
    "def GetFDReport(year: int) -> None:\n",
    "    url = f\"https://disclosures-clerk.house.gov/public_disc/financial-pdfs/{year}FD.zip\"\n",
    "    filename = f\"{year}FD.zip\"\n",
    "    urlretrieve(url, filename)\n",
    "\n",
    "    folderName = f\"{year}FD.zip\"\n",
    "\n",
    "    with ZipFile(folderName, \"r\") as myZip:\n",
    "            myZip.extractall(path=\"Disclosures\")\n",
    "            myZip.close()\n",
    "\n",
    "    os.remove(folderName)\n",
    "    os.remove(f\"Disclosures/{year}FD.xml\")"
   ]
  },
  {
   "cell_type": "code",
   "execution_count": 44,
   "id": "ce8986ba-ca50-4d63-9165-bc09650f2a3a",
   "metadata": {},
   "outputs": [],
   "source": [
    "def GetTradeReport(DocID : int) -> None:\n",
    "    url = (f\"https://disclosures-clerk.house.gov/public_disc/ptr-pdfs/2025/{DocID}.pdf\")\n",
    "    filename = f\"{DocID}-Trades.pdf\"\n",
    "    urlretrieve(url, filename)"
   ]
  },
  {
   "cell_type": "code",
   "execution_count": 46,
   "id": "4af51b83-1b25-4079-9c1e-e348c3e3affb",
   "metadata": {},
   "outputs": [],
   "source": [
    "GetTradeReport(\"20026590\")"
   ]
  },
  {
   "cell_type": "code",
   "execution_count": 68,
   "id": "2f53f4d1-3486-46a9-9a9e-ca204bc25e56",
   "metadata": {},
   "outputs": [],
   "source": [
    "GetFDReport(2025)"
   ]
  },
  {
   "cell_type": "code",
   "execution_count": null,
   "id": "d4325f8d-4458-4393-b844-cc0730a9201f",
   "metadata": {},
   "outputs": [],
   "source": []
  },
  {
   "cell_type": "code",
   "execution_count": 7,
   "id": "b2be47d8",
   "metadata": {},
   "outputs": [
    {
     "name": "stdout",
     "output_type": "stream",
     "text": [
      "['Williams', 'John-Samuel', 'Etheridge']\n"
     ]
    }
   ],
   "source": [
    "test = \"Williams        John-Samuel Etheridge\"\n",
    "splitTest = test.split()\n",
    "print(splitTest)"
   ]
  },
  {
   "cell_type": "code",
   "execution_count": 1,
   "id": "22c706e3",
   "metadata": {},
   "outputs": [
    {
     "data": {
      "text/plain": [
       "['', ' a', ' b']"
      ]
     },
     "execution_count": 1,
     "metadata": {},
     "output_type": "execute_result"
    }
   ],
   "source": [
    "\", a, b\".split(\",\")"
   ]
  },
  {
   "cell_type": "code",
   "execution_count": null,
   "id": "94db8445",
   "metadata": {},
   "outputs": [],
   "source": []
  }
 ],
 "metadata": {
  "kernelspec": {
   "display_name": "Webscraper",
   "language": "python",
   "name": "python3"
  },
  "language_info": {
   "codemirror_mode": {
    "name": "ipython",
    "version": 3
   },
   "file_extension": ".py",
   "mimetype": "text/x-python",
   "name": "python",
   "nbconvert_exporter": "python",
   "pygments_lexer": "ipython3",
   "version": "3.12.9"
  }
 },
 "nbformat": 4,
 "nbformat_minor": 5
}
